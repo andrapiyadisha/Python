{
 "cells": [
  {
   "attachments": {},
   "cell_type": "markdown",
   "metadata": {},
   "source": [
    "<a href='https://www.darshan.ac.in/'> <img src='https://www.darshan.ac.in/Content/media/DU_Logo.svg' width=\"250\" height=\"300\"/></a>\n",
    "<pre>\n",
    "<center><b><h1>Python Programming - 2301CS404</b></center>\n",
    "<center><b><h1>Lab - 6</b></center>    \n",
    "<pre>"
   ]
  },
  {
   "cell_type": "markdown",
   "metadata": {},
   "source": [
    "# Tuple"
   ]
  },
  {
   "cell_type": "markdown",
   "metadata": {},
   "source": [
    "### 01) WAP to find sum of tuple elements."
   ]
  },
  {
   "cell_type": "code",
   "execution_count": 1,
   "metadata": {},
   "outputs": [
    {
     "name": "stdout",
     "output_type": "stream",
     "text": [
      "Sum is  150\n"
     ]
    }
   ],
   "source": [
    "mytuple = (10, 20, 30, 40, 50)\n",
    "sum = 0\n",
    "for i in mytuple:\n",
    "    sum += i\n",
    "print(\"Sum is \", sum)"
   ]
  },
  {
   "cell_type": "markdown",
   "metadata": {},
   "source": [
    "### 02) WAP to find Maximum and Minimum K elements in a given tuple."
   ]
  },
  {
   "cell_type": "code",
   "execution_count": 3,
   "metadata": {},
   "outputs": [
    {
     "name": "stdout",
     "output_type": "stream",
     "text": [
      "Minimum is [0, 1, 2]\n",
      "Maximum is [56, 57, 78]\n"
     ]
    }
   ],
   "source": [
    "mytuple = (2,56,34,1,78,0,34,57,3)\n",
    "k = 3\n",
    "a = sorted(mytuple)\n",
    "min = a[:k]\n",
    "max = a[-k:]\n",
    "print(\"Minimum is\", min)\n",
    "print(\"Maximum is\", max)"
   ]
  },
  {
   "cell_type": "markdown",
   "metadata": {},
   "source": [
    "### 03) WAP to find tuples which have all elements divisible by K from a list of tuples."
   ]
  },
  {
   "cell_type": "code",
   "execution_count": 8,
   "metadata": {},
   "outputs": [
    {
     "name": "stdout",
     "output_type": "stream",
     "text": [
      "[(10, 20, 50)]\n"
     ]
    }
   ],
   "source": [
    "mytuple = [(10,20,50),(40,23,11),(70,90,24)]\n",
    "k = 5\n",
    "result = []\n",
    "for i in mytuple:\n",
    "    if all(a % k == 0 for a in i):\n",
    "        result.append(i)\n",
    "print(result)"
   ]
  },
  {
   "cell_type": "markdown",
   "metadata": {},
   "source": [
    "### 04) WAP to create a list of tuples from given list having number and its cube in each tuple."
   ]
  },
  {
   "cell_type": "code",
   "execution_count": 9,
   "metadata": {},
   "outputs": [
    {
     "name": "stdout",
     "output_type": "stream",
     "text": [
      "[(1, 1), (2, 8), (3, 27), (4, 64), (5, 125)]\n"
     ]
    }
   ],
   "source": [
    "mylist = [1,2,3,4,5]\n",
    "result = [(n , n**3) for n in mylist]\n",
    "print(result)"
   ]
  },
  {
   "cell_type": "markdown",
   "metadata": {},
   "source": [
    "### 05) WAP to find tuples with all positive elements from the given list of tuples."
   ]
  },
  {
   "cell_type": "code",
   "execution_count": 10,
   "metadata": {},
   "outputs": [
    {
     "name": "stdout",
     "output_type": "stream",
     "text": [
      "[(3, 5, 7), (6, 8, 9)]\n"
     ]
    }
   ],
   "source": [
    "mytuple = [(-1,3,5),(3,5,7),(6,8,9),(-6,-9,0)]\n",
    "result = []\n",
    "for i in mytuple:\n",
    "    if all(a > 0 for a in i):\n",
    "        result.append(i)\n",
    "print(result)"
   ]
  },
  {
   "cell_type": "markdown",
   "metadata": {},
   "source": [
    "### 06) WAP to add tuple to list and vice – versa."
   ]
  },
  {
   "cell_type": "code",
   "execution_count": 18,
   "metadata": {},
   "outputs": [
    {
     "name": "stdout",
     "output_type": "stream",
     "text": [
      "List after adding tuple: [4, 5, 6, 1, 2, 3]\n",
      "Tuple after adding list: (1, 2, 3, 4, 5, 6)\n"
     ]
    }
   ],
   "source": [
    "mytuple = (1, 2, 3)\n",
    "mylist = [4, 5, 6]\n",
    "\n",
    "list_tuple = mylist + list(mytuple)\n",
    "print(\"List after adding tuple:\", list_tuple)\n",
    "\n",
    "tuple_list = mytuple + tuple(mylist)\n",
    "print(\"Tuple after adding list:\", tuple_list)\n"
   ]
  },
  {
   "cell_type": "markdown",
   "metadata": {},
   "source": [
    "### 07) WAP to remove tuples of length K."
   ]
  },
  {
   "cell_type": "code",
   "execution_count": 22,
   "metadata": {},
   "outputs": [
    {
     "name": "stdout",
     "output_type": "stream",
     "text": [
      "(10, 20, 50)\n",
      "(70, 90, 24)\n"
     ]
    }
   ],
   "source": [
    "mytuple = [(10,20,50),(40,23),(70,90,24)]\n",
    "k = 2\n",
    "output = [i for i in mytuple if len(i) != k]\n",
    "for i in output:\n",
    "    print(i)"
   ]
  },
  {
   "cell_type": "markdown",
   "metadata": {},
   "source": [
    "### 08) WAP to remove duplicates from tuple."
   ]
  },
  {
   "cell_type": "code",
   "execution_count": 24,
   "metadata": {},
   "outputs": [
    {
     "name": "stdout",
     "output_type": "stream",
     "text": [
      "(1, 2, 3, 4, 5, 6, 7, 8, 9, 12)\n"
     ]
    }
   ],
   "source": [
    "mytuple = (1,4,2,3,4,3,2,5,6,7,8,9,12)\n",
    "output = tuple(set(mytuple))\n",
    "print(output)"
   ]
  },
  {
   "cell_type": "markdown",
   "metadata": {},
   "source": [
    "### 09) WAP to multiply adjacent elements of a tuple and print that resultant tuple."
   ]
  },
  {
   "cell_type": "code",
   "execution_count": 25,
   "metadata": {},
   "outputs": [
    {
     "name": "stdout",
     "output_type": "stream",
     "text": [
      "(4, 8, 6, 12, 12, 6, 10, 30, 42, 56, 72, 108)\n"
     ]
    }
   ],
   "source": [
    "mytuple = (1,4,2,3,4,3,2,5,6,7,8,9,12)\n",
    "output = tuple(mytuple[i] * mytuple[i+1] for i in range(len(mytuple)-1))\n",
    "print(output)"
   ]
  },
  {
   "cell_type": "markdown",
   "metadata": {},
   "source": [
    "### 10) WAP to test if the given tuple is distinct or not."
   ]
  },
  {
   "cell_type": "code",
   "execution_count": 28,
   "metadata": {},
   "outputs": [
    {
     "name": "stdout",
     "output_type": "stream",
     "text": [
      "Tuple is not distinct\n"
     ]
    }
   ],
   "source": [
    "mytuple = (1,4,2,3,4,3,2,5,6,7,8,9,12)\n",
    "if len(mytuple) == len(set(mytuple)):\n",
    "    print(\"Tuple is distinct\")\n",
    "else:\n",
    "    print(\"Tuple is not distinct\")"
   ]
  }
 ],
 "metadata": {
  "kernelspec": {
   "display_name": "Python 3 (ipykernel)",
   "language": "python",
   "name": "python3"
  },
  "language_info": {
   "codemirror_mode": {
    "name": "ipython",
    "version": 3
   },
   "file_extension": ".py",
   "mimetype": "text/x-python",
   "name": "python",
   "nbconvert_exporter": "python",
   "pygments_lexer": "ipython3",
   "version": "3.12.7"
  }
 },
 "nbformat": 4,
 "nbformat_minor": 4
}
