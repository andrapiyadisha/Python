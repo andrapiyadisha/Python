{
 "cells": [
  {
   "cell_type": "markdown",
   "metadata": {},
   "source": [
    "<a href='https://www.darshan.ac.in/'> <img src='https://www.darshan.ac.in/Content/media/DU_Logo.svg' width=\"250\" height=\"300\"/></a>\n",
    "<pre>\n",
    "<center><b><h1>Python Programming - 2301CS404</b></center>\n",
    "<center><b><h1>Lab - 9</b></center>    \n",
    "<pre>"
   ]
  },
  {
   "cell_type": "markdown",
   "metadata": {},
   "source": [
    "# File I/O"
   ]
  },
  {
   "cell_type": "markdown",
   "metadata": {},
   "source": [
    "### 01) WAP to read and display the contents of a text file. (also try to open the file in some other directory) \n",
    "#### - in the form of a string\n",
    "#### - line by line\n",
    "#### - in the form of a list"
   ]
  },
  {
   "cell_type": "code",
   "execution_count": 2,
   "metadata": {},
   "outputs": [
    {
     "name": "stdout",
     "output_type": "stream",
     "text": [
      "This is Python lab\n"
     ]
    }
   ],
   "source": [
    "fp = open(\"abc.txt\",\"r\")\n",
    "a = fp.read()\n",
    "print(a)\n",
    "fp.close()"
   ]
  },
  {
   "cell_type": "code",
   "execution_count": 8,
   "metadata": {},
   "outputs": [
    {
     "name": "stdout",
     "output_type": "stream",
     "text": [
      "This is Python lab\n",
      "\n",
      "This is Lab 9\n"
     ]
    }
   ],
   "source": [
    "fp = open(\"abc.txt\",\"r\")\n",
    "b = fp.readlines()\n",
    "for i in b:\n",
    "    print(i)\n",
    "fp.close()"
   ]
  },
  {
   "cell_type": "markdown",
   "metadata": {},
   "source": [
    "### 02) WAP to create file named \"new.txt\" only if it doesn't exist."
   ]
  },
  {
   "cell_type": "code",
   "execution_count": 9,
   "metadata": {},
   "outputs": [
    {
     "name": "stdout",
     "output_type": "stream",
     "text": [
      "Hello World\n"
     ]
    }
   ],
   "source": [
    "fp = open(\"new.txt\",'w')\n",
    "s1 = \"Hello World\"\n",
    "print(s1)\n",
    "fp.close()\n",
    "N = 10\n",
    "with open(\"file.txt\", \"a\") as file:  # the a opens it in append mode\n",
    "    for i in range(N):\n",
    "        line = next(file).strip()\n",
    "        print(line)"
   ]
  },
  {
   "cell_type": "markdown",
   "metadata": {},
   "source": [
    "### 03) WAP to read first 5 lines from the text file."
   ]
  },
  {
   "cell_type": "code",
   "execution_count": 28,
   "metadata": {},
   "outputs": [
    {
     "name": "stdout",
     "output_type": "stream",
     "text": [
      "This is Python lab\n",
      "This is Lab 9\n",
      "dckjshdijgd\n",
      "hjdsfwigjurigor\n",
      "dfnvekgjviorjgt\n"
     ]
    }
   ],
   "source": [
    "file = open(\"abc.txt\", \"r\")\n",
    "for i in range(5):\n",
    "    line = file.readline().strip()\n",
    "    if not line:\n",
    "        break\n",
    "    print(line)\n",
    "file.close()\n"
   ]
  },
  {
   "cell_type": "markdown",
   "metadata": {},
   "source": [
    "### 04) WAP to find the longest word(s) in a file"
   ]
  },
  {
   "cell_type": "code",
   "execution_count": 34,
   "metadata": {},
   "outputs": [
    {
     "name": "stdout",
     "output_type": "stream",
     "text": [
      "5\n",
      "5\n",
      "6\n",
      "8\n",
      "9\n"
     ]
    }
   ],
   "source": [
    "fp = open(\"abc.txt\",\"r\")\n",
    "li = fp.read().split()\n",
    "longest_word = max(li, key=len)\n",
    "print(\"Longest word(s):\", longest_word)\n",
    "fp.close()\n"
   ]
  },
  {
   "cell_type": "markdown",
   "metadata": {},
   "source": [
    "### 05) WAP to count the no. of lines, words and characters in a given text file."
   ]
  },
  {
   "cell_type": "code",
   "execution_count": 22,
   "metadata": {
    "scrolled": true
   },
   "outputs": [
    {
     "name": "stdout",
     "output_type": "stream",
     "text": [
      "113\n"
     ]
    }
   ],
   "source": [
    "fp = open(\"abc.txt\",\"r\")\n",
    "li = fp.read()\n",
    "print(len(li))"
   ]
  },
  {
   "cell_type": "code",
   "execution_count": 23,
   "metadata": {},
   "outputs": [
    {
     "name": "stdout",
     "output_type": "stream",
     "text": [
      "8\n"
     ]
    }
   ],
   "source": [
    "fp = open(\"abc.txt\",\"r\")\n",
    "li = fp.readlines()\n",
    "print(len(li))"
   ]
  },
  {
   "cell_type": "code",
   "execution_count": 24,
   "metadata": {},
   "outputs": [
    {
     "name": "stdout",
     "output_type": "stream",
     "text": [
      "14\n"
     ]
    }
   ],
   "source": [
    "fp = open(\"abc.txt\",\"r\")\n",
    "li = fp.read().split()\n",
    "print(len(li))"
   ]
  },
  {
   "cell_type": "markdown",
   "metadata": {},
   "source": [
    "### 06) WAP to copy the content of a file to the another file."
   ]
  },
  {
   "cell_type": "code",
   "execution_count": 25,
   "metadata": {},
   "outputs": [],
   "source": [
    "fp = open(\"abc.txt\",\"r\")\n",
    "a = fp.read()\n",
    "fp1 = open(\"new_abc.txt\",\"w\")\n",
    "fp1.write(a)\n",
    "fp.close()\n",
    "fp1.close()"
   ]
  },
  {
   "cell_type": "markdown",
   "metadata": {},
   "source": [
    "### 07) WAP to find the size of the text file. "
   ]
  },
  {
   "cell_type": "code",
   "execution_count": 27,
   "metadata": {},
   "outputs": [
    {
     "name": "stdout",
     "output_type": "stream",
     "text": [
      "File Size in Bytes: 113\n"
     ]
    }
   ],
   "source": [
    "import os\n",
    "\n",
    "file_path = 'abc.txt'\n",
    "file_size = os.path.getsize(file_path)\n",
    "print(\"File Size in Bytes:\", file_size)"
   ]
  },
  {
   "cell_type": "markdown",
   "metadata": {},
   "source": [
    "### 08) WAP to create an UDF named frequency to count occurances of the specific word in a given text file."
   ]
  },
  {
   "cell_type": "code",
   "execution_count": 32,
   "metadata": {},
   "outputs": [
    {
     "name": "stdout",
     "output_type": "stream",
     "text": [
      "Enter the file path:  abc.txt\n",
      "Enter the word to count:  lab\n"
     ]
    },
    {
     "name": "stdout",
     "output_type": "stream",
     "text": [
      "The word 'lab' appears 2 times in the file.\n"
     ]
    }
   ],
   "source": [
    "file_path = input(\"Enter the file path: \")\n",
    "word = input(\"Enter the word to count: \")\n",
    "\n",
    "file = open(file_path, \"r\")\n",
    "text = file.read().lower()\n",
    "count = text.split().count(word.lower())\n",
    "file.close()\n",
    "\n",
    "print(f\"The word '{word}' appears {count} times in the file.\")\n"
   ]
  },
  {
   "cell_type": "markdown",
   "metadata": {},
   "source": [
    "### 09) WAP to get the score of five subjects from the user, store them in a file. Fetch those marks and find the highest score."
   ]
  },
  {
   "cell_type": "code",
   "execution_count": 33,
   "metadata": {},
   "outputs": [
    {
     "name": "stdout",
     "output_type": "stream",
     "text": [
      "Enter the score for subject 1:  45\n",
      "Enter the score for subject 2:  45\n",
      "Enter the score for subject 3:  56\n",
      "Enter the score for subject 4:  78\n",
      "Enter the score for subject 5:  89\n"
     ]
    },
    {
     "name": "stdout",
     "output_type": "stream",
     "text": [
      "The highest score is: 89\n"
     ]
    }
   ],
   "source": [
    "scores = []\n",
    "for i in range(1, 6):\n",
    "    score = int(input(f\"Enter the score for subject {i}: \"))\n",
    "    scores.append(score)\n",
    "\n",
    "file = open(\"abc.txt\", \"w\")\n",
    "for score in scores:\n",
    "    file.write(str(score) + \"\\n\")\n",
    "file.close()\n",
    "\n",
    "file = open(\"abc.txt\", \"r\")\n",
    "scores_from_file = [int(line.strip()) for line in file.readlines()]\n",
    "file.close()\n",
    "\n",
    "highest_score = max(scores_from_file)\n",
    "print(f\"The highest score is: {highest_score}\")\n"
   ]
  },
  {
   "cell_type": "markdown",
   "metadata": {},
   "source": [
    "### 10) WAP to write first 100 prime numbers to a file named primenumbers.txt \n",
    "(Note: each number should be in new line)"
   ]
  },
  {
   "cell_type": "code",
   "execution_count": null,
   "metadata": {},
   "outputs": [],
   "source": [
    "primes = []\n",
    "num = 2  # Start checking from 2\n",
    "\n",
    "while len(primes) < 100:\n",
    "    is_prime = True  # Assume num is prime\n",
    "    for i in range(2, int(num ** 0.5) + 1):  # Check divisibility\n",
    "        if num % i == 0:\n",
    "            is_prime = False\n",
    "            break\n",
    "    if is_prime:\n",
    "        primes.append(num)  # Add prime number to list\n",
    "    num += 1  # Move to the next number\n",
    "\n",
    "# Write the prime numbers to a file\n",
    "with open(\"primenumbers.txt\", \"w\") as file:\n",
    "    for prime in primes:\n",
    "        file.write(str(prime) + \"\\n\")\n",
    "\n",
    "print(\"First 100 prime numbers written to 'primenumbers.txt'.\")"
   ]
  },
  {
   "cell_type": "markdown",
   "metadata": {},
   "source": [
    "### 11) WAP to merge two files and write it in a new file."
   ]
  },
  {
   "cell_type": "code",
   "execution_count": null,
   "metadata": {},
   "outputs": [],
   "source": [
    "# Open the first file and read its content\n",
    "with open(\"file1.txt\", \"r\") as f1:\n",
    "    content1 = f1.read()\n",
    "\n",
    "# Open the second file and read its content\n",
    "with open(\"file2.txt\", \"r\") as f2:\n",
    "    content2 = f2.read()\n",
    "\n",
    "# Merge the contents\n",
    "merged_content = content1 + \"\\n\" + content2  # Adding a newline for separation\n",
    "\n",
    "# Write the merged content into a new file\n",
    "with open(\"merged_file.txt\", \"w\") as f3:\n",
    "    f3.write(merged_content)\n",
    "\n",
    "print(\"Files merged successfully into 'merged_file.txt'.\")\n"
   ]
  },
  {
   "cell_type": "markdown",
   "metadata": {},
   "source": [
    "### 12) WAP to replace word1 by word2 of a text file. Write the updated data to new file."
   ]
  },
  {
   "cell_type": "code",
   "execution_count": null,
   "metadata": {},
   "outputs": [],
   "source": [
    "# Input the file paths and words to replace\n",
    "input_file = input(\"Enter the input file name: \")\n",
    "output_file = input(\"Enter the output file name: \")\n",
    "word1 = input(\"Enter the word to replace: \")\n",
    "word2 = input(\"Enter the new word: \")\n",
    "\n",
    "# Open the input file, read the content, and replace the word\n",
    "with open(input_file, \"r\") as file:\n",
    "    content = file.read()\n",
    "\n",
    "# Replace all occurrences of word1 with word2\n",
    "updated_content = content.replace(word1, word2)\n",
    "\n",
    "# Write the updated content to the output file\n",
    "with open(output_file, \"w\") as file:\n",
    "    file.write(updated_content)\n",
    "\n",
    "print(f\"The word '{word1}' has been replaced by '{word2}' in the file '{output_file}'.\")\n"
   ]
  },
  {
   "cell_type": "markdown",
   "metadata": {},
   "source": [
    "### 13) Demonstrate tell() and seek() for all the cases(seek from beginning-end-current position) taking a suitable example of your choice."
   ]
  },
  {
   "cell_type": "code",
   "execution_count": null,
   "metadata": {},
   "outputs": [],
   "source": [
    "# Writing sample data to a file\n",
    "with open(\"example.txt\", \"w\") as file:\n",
    "    file.write(\"Hello, this is a demonstration of tell() and seek().\")\n",
    "\n",
    "# Open the file for reading\n",
    "with open(\"example.txt\", \"r\") as file:\n",
    "    # Case 1: tell() at the beginning\n",
    "    print(\"Initial position:\", file.tell())  # Should print 0\n",
    "\n",
    "    # Read some characters\n",
    "    print(\"Reading 5 characters:\", file.read(5))\n",
    "    print(\"Position after reading 5 characters:\", file.tell())  # Should print 5\n",
    "\n",
    "    # Case 2: seek() from the beginning (seek(0, 0))\n",
    "    file.seek(0, 0)  # Moves cursor to the start\n",
    "    print(\"Position after seek(0,0):\", file.tell())  # Should print 0\n",
    "\n",
    "    # Case 3: seek() from the current position (seek(5, 1))\n",
    "    file.seek(5, 1)  # Move 5 characters ahead from the current position\n",
    "    print(\"Position after seek(5,1):\", file.tell())\n",
    "\n",
    "    # Case 4: seek() from the end (seek(-10, 2))\n",
    "    file.seek(-10, 2)  # Moves 10 characters before the end\n",
    "    print(\"Position after seek(-10,2):\", file.tell())\n",
    "\n",
    "    # Read the remaining content from the new position\n",
    "    print(\"Remaining content:\", file.read())\n"
   ]
  }
 ],
 "metadata": {
  "kernelspec": {
   "display_name": "Python 3 (ipykernel)",
   "language": "python",
   "name": "python3"
  },
  "language_info": {
   "codemirror_mode": {
    "name": "ipython",
    "version": 3
   },
   "file_extension": ".py",
   "mimetype": "text/x-python",
   "name": "python",
   "nbconvert_exporter": "python",
   "pygments_lexer": "ipython3",
   "version": "3.12.7"
  }
 },
 "nbformat": 4,
 "nbformat_minor": 4
}
