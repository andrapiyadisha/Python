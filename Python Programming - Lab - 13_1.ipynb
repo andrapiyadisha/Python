{
 "cells": [
  {
   "cell_type": "markdown",
   "metadata": {},
   "source": [
    "<a href='https://www.darshan.ac.in/'> <img src='https://www.darshan.ac.in/Content/media/DU_Logo.svg' width=\"250\" height=\"300\"/></a>\n",
    "<pre>\n",
    "<center><b><h1>Python Programming - 2301CS404</b>\n",
    "<h2>Disha Andrapiya</h2>\n",
    "    <h2>B4-372</h2>\n",
    "    <h2>23010101010</h2></center>\n",
    "<center><b><h1>Lab - 13</b></center>    \n",
    "<pre>"
   ]
  },
  {
   "cell_type": "markdown",
   "metadata": {},
   "source": [
    "# OOP"
   ]
  },
  {
   "cell_type": "markdown",
   "metadata": {},
   "source": [
    "### 01) Write a Program to create a class by name Students, and initialize attributes like name, age, and grade while creating an object."
   ]
  },
  {
   "cell_type": "code",
   "execution_count": 3,
   "metadata": {},
   "outputs": [
    {
     "name": "stdout",
     "output_type": "stream",
     "text": [
      "Name =  Disha\n",
      "Age =  18\n",
      "Grade =  A++\n"
     ]
    }
   ],
   "source": [
    "class Student:\n",
    "    def StudentInfo(self,name,age,grade):\n",
    "        print(\"Name = \",name)\n",
    "        print(\"Age = \",age)\n",
    "        print(\"Grade = \",grade)\n",
    "a1 = Student()\n",
    "a1.StudentInfo(\"Disha\",18,\"A++\")"
   ]
  },
  {
   "cell_type": "markdown",
   "metadata": {},
   "source": [
    "### 02)Create a class named Bank_Account with Account_No, User_Name, Email,Account_Type and Account_Balance data members. Also create a method GetAccountDetails() and DisplayAccountDetails(). Create main method to demonstrate the Bank_Account class."
   ]
  },
  {
   "cell_type": "code",
   "execution_count": 9,
   "metadata": {},
   "outputs": [
    {
     "name": "stdin",
     "output_type": "stream",
     "text": [
      "Enter Account number 1\n",
      "Enter Account number Dis\n",
      "Enter Account number cjkdc\n",
      "Enter Account number sjc\n",
      "Enter Account number 123\n"
     ]
    },
    {
     "name": "stdout",
     "output_type": "stream",
     "text": [
      "1\n",
      "Dis\n",
      "cjkdc\n",
      "sjc\n",
      "123\n"
     ]
    }
   ],
   "source": [
    "class Bank_Account:\n",
    "    def GetAccountDetails(self):\n",
    "        self.Account_No = int(input(\"Enter Account number\"))\n",
    "        self.User_Name = input(\"Enter Account number\")\n",
    "        self.Email = input(\"Enter Account number\")\n",
    "        self.Account_Type = input(\"Enter Account number\")\n",
    "        self.Account_Balance = int(input(\"Enter Account number\"))\n",
    "    def DisplayAccountDetails(self):\n",
    "        print(self.Account_No)\n",
    "        print(self.User_Name)\n",
    "        print(self.Email)\n",
    "        print(self.Account_Type)\n",
    "        print(self.Account_Balance)\n",
    "A2 = Bank_Account()\n",
    "A2.GetAccountDetails()\n",
    "A2.DisplayAccountDetails()"
   ]
  },
  {
   "cell_type": "markdown",
   "metadata": {},
   "source": [
    "### 03) WAP to create Circle class with area and perimeter function to find area and perimeter of circle."
   ]
  },
  {
   "cell_type": "code",
   "execution_count": 10,
   "metadata": {},
   "outputs": [
    {
     "name": "stdout",
     "output_type": "stream",
     "text": [
      "Area =  31400.0\n",
      "perimeter =  628.0\n"
     ]
    }
   ],
   "source": [
    "class Circle:\n",
    "    def Area(self,r):\n",
    "        print(\"Area = \",3.14*r*r)\n",
    "    def perimeter(self,r):\n",
    "        print(\"perimeter = \",2*3.14*r)\n",
    "a1 = Circle()\n",
    "a1.Area(100)\n",
    "a1.perimeter(100)"
   ]
  },
  {
   "cell_type": "markdown",
   "metadata": {},
   "source": [
    "### 04) Create a class for employees that includes attributes such as name, age, salary, and methods to update and display employee information."
   ]
  },
  {
   "cell_type": "code",
   "execution_count": 12,
   "metadata": {},
   "outputs": [
    {
     "name": "stdin",
     "output_type": "stream",
     "text": [
      "Enter Name Disha\n",
      "Enter Age 12\n",
      "Enter Salary 1234\n"
     ]
    },
    {
     "name": "stdout",
     "output_type": "stream",
     "text": [
      "Disha\n",
      "12\n",
      "1234\n"
     ]
    }
   ],
   "source": [
    "class employees:\n",
    "    def Update(self):\n",
    "        self.Name = input(\"Enter Name\")\n",
    "        self.Age = input(\"Enter Age\")\n",
    "        self.Salary = int(input(\"Enter Salary\"))\n",
    "    def Display(self):\n",
    "        print(self.Name)\n",
    "        print(self.Age)\n",
    "        print(self.Salary)\n",
    "A2 = employees()\n",
    "A2.Update()\n",
    "A2.Display()"
   ]
  },
  {
   "cell_type": "markdown",
   "metadata": {},
   "source": [
    "### 05) Create a bank account class with methods to deposit, withdraw, and check balance."
   ]
  },
  {
   "cell_type": "code",
   "execution_count": 25,
   "metadata": {},
   "outputs": [
    {
     "name": "stdout",
     "output_type": "stream",
     "text": [
      "Balance: 3000\n"
     ]
    }
   ],
   "source": [
    "class Accounts:\n",
    "    def GetAccountDetails(self, account_no, account_type, user_name, account_balance, email):\n",
    "        self.account_no = account_no\n",
    "        self.account_type = account_type\n",
    "        self.user_name = user_name\n",
    "        self.account_balance = account_balance\n",
    "        self.email = email\n",
    "\n",
    "    def DisplayAccountDetails(self):\n",
    "        print(\"Account Number:\", self.account_no)\n",
    "        print(\"Account Type:\", self.account_type)\n",
    "        print(\"User Name:\", self.user_name)\n",
    "        print(\"Account Balance:\", self.account_balance)\n",
    "        print(\"Email:\", self.email)\n",
    "    def Deposit(self, amount):\n",
    "        self.account_balance += amount\n",
    "    def Withdraw(self, amount):\n",
    "         self.account_balance -= amount\n",
    "    def CheckBalance(self, amount):\n",
    "         print(\"Balance:\", self.account_balance)\n",
    "User = Accounts()\n",
    "User.GetAccountDetails(12345, \"Saving\", \"John\", 1000, \"john@example.com\")\n",
    "User.Deposit(2000)\n",
    "User.CheckBalance(1000)\n"
   ]
  },
  {
   "cell_type": "markdown",
   "metadata": {},
   "source": [
    "### 06) Create a class for managing inventory that includes attributes such as item name, price, quantity, and methods to add, remove, and update items."
   ]
  },
  {
   "cell_type": "code",
   "execution_count": null,
   "metadata": {},
   "outputs": [],
   "source": [
    "class"
   ]
  },
  {
   "cell_type": "markdown",
   "metadata": {},
   "source": [
    "### 07) Create a Class with instance attributes of your choice."
   ]
  },
  {
   "cell_type": "code",
   "execution_count": null,
   "metadata": {},
   "outputs": [],
   "source": [
    "class Student:\n",
    "    def StudentInfo(self,name,age,grade):\n",
    "        print(\"Name = \",name)\n",
    "        print(\"Age = \",age)\n",
    "        print(\"Grade = \",grade)\n",
    "a1 = Student()\n",
    "a1.StudentInfo(\"Disha\",20,\"A++\")"
   ]
  },
  {
   "cell_type": "markdown",
   "metadata": {},
   "source": [
    "### 08) Create one class student_kit\n",
    "#### Within the student_kit class create one class attribute principal name ( Mr ABC )\n",
    "#### Create one attendance method and take input as number of days.\n",
    "#### While creating student take input their name .\n",
    "#### Create one certificate for each student by taking input of number of days present in class."
   ]
  },
  {
   "cell_type": "code",
   "execution_count": 33,
   "metadata": {},
   "outputs": [
    {
     "name": "stdout",
     "output_type": "stream",
     "text": [
      "day =  360\n",
      "Certification 360 Completed\n"
     ]
    }
   ],
   "source": [
    "class student_kit:\n",
    "  def __init__(self, name,  principal):\n",
    "        self.name = name\n",
    "        self.principal = principal\n",
    "  def attendence(self, day):\n",
    "      self.day = day\n",
    "      print(\"day = \",day)\n",
    "  def Certification(self):\n",
    "      print(\"Certification\" , self.day, \"Completed\")\n",
    "\n",
    "a = student_kit(\"John\", \"ABC\")\n",
    "a.attendence(360)\n",
    "a.Certification()"
   ]
  },
  {
   "cell_type": "markdown",
   "metadata": {},
   "source": [
    "### 09) Define Time class with hour and minute as data member. Also define addition method to add two time objects."
   ]
  },
  {
   "cell_type": "code",
   "execution_count": 34,
   "metadata": {},
   "outputs": [
    {
     "name": "stdout",
     "output_type": "stream",
     "text": [
      "Time 1: 2:50\n",
      "Time 2: 1:20\n",
      "Total Time: 1:70\n"
     ]
    }
   ],
   "source": [
    "class Time:\n",
    "    def __init__(self, h, m):\n",
    "        self.hour = h\n",
    "        self.minute = m\n",
    "\n",
    "    def __add__(self, t):\n",
    "        minutes = self.minute + t.minute\n",
    "        hours = minutes // 60\n",
    "        new_minutes = minutes % 60\n",
    "        new_hour = self.hour + t.hour + hours\n",
    "        return Time(hours, minutes)\n",
    "\n",
    "    def display(self):\n",
    "        return f\"{self.hour}:{self.minute}\"\n",
    "\n",
    "time1 = Time(2, 50)\n",
    "time2 = Time(1, 20)\n",
    "\n",
    "result = time1 + time2\n",
    "\n",
    "print(\"Time 1:\", time1.display())\n",
    "print(\"Time 2:\", time2.display())\n",
    "print(\"Total Time:\", result.display())\n"
   ]
  },
  {
   "cell_type": "code",
   "execution_count": null,
   "metadata": {},
   "outputs": [],
   "source": []
  }
 ],
 "metadata": {
  "kernelspec": {
   "display_name": "Python 3 (ipykernel)",
   "language": "python",
   "name": "python3"
  },
  "language_info": {
   "codemirror_mode": {
    "name": "ipython",
    "version": 3
   },
   "file_extension": ".py",
   "mimetype": "text/x-python",
   "name": "python",
   "nbconvert_exporter": "python",
   "pygments_lexer": "ipython3",
   "version": "3.12.7"
  }
 },
 "nbformat": 4,
 "nbformat_minor": 4
}
