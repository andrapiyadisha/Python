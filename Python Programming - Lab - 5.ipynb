{
 "cells": [
  {
   "cell_type": "markdown",
   "metadata": {},
   "source": [
    "\n",
    "<a href='https://www.darshan.ac.in/'> <img src='https://www.darshan.ac.in/Content/media/DU_Logo.svg' width=\"250\" height=\"300\"/></a>\n",
    "<pre>\n",
    "<center><b><h1>Python Programming - 2301CS404</b></center>\n",
    "<center><b><h1>Lab - 5</b></center>    \n",
    "<pre>"
   ]
  },
  {
   "cell_type": "markdown",
   "metadata": {},
   "source": [
    "# List"
   ]
  },
  {
   "cell_type": "markdown",
   "metadata": {},
   "source": [
    "### 01) WAP to find sum of all the elements in a List."
   ]
  },
  {
   "cell_type": "code",
   "execution_count": 1,
   "metadata": {},
   "outputs": [
    {
     "name": "stdin",
     "output_type": "stream",
     "text": [
      "Enter a number :  3\n",
      "Enter list member 1\n",
      "Enter list member 2\n",
      "Enter list member 3\n"
     ]
    },
    {
     "name": "stdout",
     "output_type": "stream",
     "text": [
      "6\n"
     ]
    }
   ],
   "source": [
    "list = []\n",
    "n = int(input(\"Enter a number : \"))\n",
    "sum = 0\n",
    "for i in range(0,n):\n",
    "    n1 = int(input(\"Enter list member\"))\n",
    "    sum = sum + n1\n",
    "print(sum)"
   ]
  },
  {
   "cell_type": "markdown",
   "metadata": {},
   "source": [
    "### 02) WAP to find largest element in a List."
   ]
  },
  {
   "cell_type": "code",
   "execution_count": 2,
   "metadata": {},
   "outputs": [
    {
     "name": "stdin",
     "output_type": "stream",
     "text": [
      "Enter a number :  3\n",
      "Enter list member 1\n",
      "Enter list member 2\n",
      "Enter list member 3\n"
     ]
    },
    {
     "name": "stdout",
     "output_type": "stream",
     "text": [
      "3\n"
     ]
    }
   ],
   "source": [
    "list = []\n",
    "n = int(input(\"Enter a number : \"))\n",
    "max = 0\n",
    "for i in range(0,n):\n",
    "    n1 = int(input(\"Enter list member\"))\n",
    "    if(n1>max):\n",
    "        max = n1\n",
    "print(n1)"
   ]
  },
  {
   "cell_type": "markdown",
   "metadata": {},
   "source": [
    "### 03) WAP to find the length of a List."
   ]
  },
  {
   "cell_type": "code",
   "execution_count": 4,
   "metadata": {},
   "outputs": [
    {
     "name": "stdin",
     "output_type": "stream",
     "text": [
      "Enter a number :  3\n",
      "Enter list member 1\n",
      "Enter list member 2\n",
      "Enter list member 3\n"
     ]
    },
    {
     "name": "stdout",
     "output_type": "stream",
     "text": [
      "3\n"
     ]
    }
   ],
   "source": [
    "list = []\n",
    "n = int(input(\"Enter a number : \"))\n",
    "count = 0\n",
    "for i in range(0,n):\n",
    "    n1 = int(input(\"Enter list member\"))\n",
    "    count = count + 1\n",
    "print(count)"
   ]
  },
  {
   "cell_type": "markdown",
   "metadata": {},
   "source": [
    "### 04) WAP to interchange first and last elements in a list."
   ]
  },
  {
   "cell_type": "code",
   "execution_count": 12,
   "metadata": {},
   "outputs": [
    {
     "name": "stdin",
     "output_type": "stream",
     "text": [
      "Enter a number :  5\n",
      "Enter list member 1\n",
      "Enter list member 2\n",
      "Enter list member 3\n",
      "Enter list member 4\n",
      "Enter list member 5\n"
     ]
    },
    {
     "name": "stdout",
     "output_type": "stream",
     "text": [
      "[5, 2, 3, 4, 1]\n"
     ]
    }
   ],
   "source": [
    "list = []\n",
    "n = int(input(\"Enter a number : \"))\n",
    "for i in range(0,n):\n",
    "    e = int(input(\"Enter list member\"))\n",
    "    list.append(e)\n",
    "temp = list[0]\n",
    "list[0] = list[n-1]\n",
    "list[n-1] = temp\n",
    "print(list)"
   ]
  },
  {
   "cell_type": "markdown",
   "metadata": {},
   "source": [
    "### 05) WAP to split the List into two parts and append the first part to the end."
   ]
  },
  {
   "cell_type": "code",
   "execution_count": 8,
   "metadata": {},
   "outputs": [
    {
     "name": "stdin",
     "output_type": "stream",
     "text": [
      "ENter number 5\n",
      "enter list member 1\n",
      "enter list member 2\n",
      "enter list member 3\n",
      "enter list member 4\n",
      "enter list member 5\n"
     ]
    },
    {
     "name": "stdout",
     "output_type": "stream",
     "text": [
      "[1, 2]\n",
      "[3, 4, 5]\n"
     ]
    }
   ],
   "source": [
    "list = []\n",
    "n = int(input(\"ENter number\"))\n",
    "for i in range(0,n):\n",
    "    e = int(input(\"enter list member\"))\n",
    "    list.append(e)\n",
    "l1=[]\n",
    "l2=[]\n",
    "for i in range(0,n):\n",
    "    if(i<n//2):\n",
    "        l1.append(list[i])\n",
    "    else:\n",
    "        l2.append(list[i])\n",
    "print(l1)\n",
    "print(l2)\n"
   ]
  },
  {
   "cell_type": "markdown",
   "metadata": {},
   "source": [
    "### 06) WAP to interchange the elements on two positions entered by a user."
   ]
  },
  {
   "cell_type": "code",
   "execution_count": 10,
   "metadata": {},
   "outputs": [
    {
     "name": "stdin",
     "output_type": "stream",
     "text": [
      "ENter number 5\n",
      "enter list member 1\n",
      "enter list member 2\n",
      "enter list member 3\n",
      "enter list member 4\n",
      "enter list member 5\n",
      "Enter 1st position :  2\n",
      "Enter 2st position :  4\n"
     ]
    },
    {
     "name": "stdout",
     "output_type": "stream",
     "text": [
      "[1, 4, 3, 2, 5]\n"
     ]
    }
   ],
   "source": [
    "list = []\n",
    "n = int(input(\"ENter number\"))\n",
    "for i in range(0,n):\n",
    "    e = int(input(\"enter list member\"))\n",
    "    list.append(e)\n",
    "a = int(input(\"Enter 1st position : \"))\n",
    "b = int(input(\"Enter 2st position : \"))\n",
    "temp = list[a-1]\n",
    "list[a-1] = list[b-1]\n",
    "list[b-1] = temp\n",
    "print(list)"
   ]
  },
  {
   "cell_type": "markdown",
   "metadata": {},
   "source": [
    "### 07) WAP to reverse the list entered by user."
   ]
  },
  {
   "cell_type": "code",
   "execution_count": 14,
   "metadata": {},
   "outputs": [
    {
     "name": "stdin",
     "output_type": "stream",
     "text": [
      "ENter number 5\n",
      "enter list member 1\n",
      "enter list member 2\n",
      "enter list member 3\n",
      "enter list member 4\n",
      "enter list member 5\n"
     ]
    },
    {
     "name": "stdout",
     "output_type": "stream",
     "text": [
      "[1, 2, 3, 4, 5]\n",
      "[5, 4, 3, 2, 1]\n"
     ]
    }
   ],
   "source": [
    "list1 = []\n",
    "n = int(input(\"ENter number\"))\n",
    "for i in range(0,n):\n",
    "    e = int(input(\"enter list member\"))\n",
    "    list1.append(e)\n",
    "print(list1)\n",
    "list1.reverse()\n",
    "print(list1)"
   ]
  },
  {
   "cell_type": "markdown",
   "metadata": {},
   "source": [
    "### 08) WAP to print even numbers in a list."
   ]
  },
  {
   "cell_type": "code",
   "execution_count": 16,
   "metadata": {},
   "outputs": [
    {
     "name": "stdin",
     "output_type": "stream",
     "text": [
      "ENter number 5\n",
      "enter list member 1\n",
      "enter list member 2\n",
      "enter list member 3\n",
      "enter list member 4\n",
      "enter list member 5\n"
     ]
    },
    {
     "name": "stdout",
     "output_type": "stream",
     "text": [
      "[2, 4]\n"
     ]
    }
   ],
   "source": [
    "list1 = []\n",
    "n = int(input(\"ENter number\"))\n",
    "for i in range(0,n):\n",
    "    e = int(input(\"enter list member\"))\n",
    "    if(e%2==0):\n",
    "        list1.append(e)\n",
    "print(list1)"
   ]
  },
  {
   "cell_type": "markdown",
   "metadata": {},
   "source": [
    "### 09) WAP to count unique items in a list."
   ]
  },
  {
   "cell_type": "code",
   "execution_count": 1,
   "metadata": {},
   "outputs": [
    {
     "name": "stdout",
     "output_type": "stream",
     "text": [
      "No of unique items are: 5\n"
     ]
    }
   ],
   "source": [
    "list = [1, 2, 2, 5, 8, 4, 4, 8]\n",
    "list1 = []\n",
    "count = 0\n",
    "for i in list:\n",
    "    if i not in list1:\n",
    "        count += 1\n",
    "        list1.append(i)\n",
    "print(\"No of unique items are:\", count)"
   ]
  },
  {
   "cell_type": "markdown",
   "metadata": {},
   "source": [
    "### 10) WAP to copy a list."
   ]
  },
  {
   "cell_type": "code",
   "execution_count": 23,
   "metadata": {},
   "outputs": [
    {
     "name": "stdin",
     "output_type": "stream",
     "text": [
      "ENter number 4\n",
      "enter list member 1\n",
      "enter list member 2\n",
      "enter list member 3\n",
      "enter list member 4\n"
     ]
    },
    {
     "name": "stdout",
     "output_type": "stream",
     "text": [
      "[1, 2, 3, 4]\n"
     ]
    }
   ],
   "source": [
    "list1 = []\n",
    "n = int(input(\"ENter number\"))\n",
    "for i in range(0,n):\n",
    "    e = int(input(\"enter list member\"))\n",
    "    list1.append(e)\n",
    "newList = list1.copy()\n",
    "print(newList)"
   ]
  },
  {
   "cell_type": "markdown",
   "metadata": {},
   "source": [
    "### 11) WAP to print all odd numbers in a given range."
   ]
  },
  {
   "cell_type": "code",
   "execution_count": 27,
   "metadata": {},
   "outputs": [
    {
     "name": "stdin",
     "output_type": "stream",
     "text": [
      "ENter number 5\n",
      "enter list member 1\n",
      "enter list member 2\n",
      "enter list member 3\n",
      "enter list member 4\n",
      "enter list member 5\n",
      "Enter 1st position :  1\n",
      "Enter 2st position :  5\n"
     ]
    },
    {
     "name": "stdout",
     "output_type": "stream",
     "text": [
      "[1, 3, 5]\n"
     ]
    }
   ],
   "source": [
    "list = []\n",
    "n = int(input(\"ENter number\"))\n",
    "for i in range(0,n):\n",
    "    e = int(input(\"enter list member\"))\n",
    "    list.append(e)\n",
    "a = int(input(\"Enter 1st position : \"))\n",
    "b = int(input(\"Enter 2st position : \"))\n",
    "n1 = [i for i in list if i%2!=0]\n",
    "print(n1)"
   ]
  },
  {
   "cell_type": "markdown",
   "metadata": {},
   "source": [
    "### 12) WAP to count occurrences of an element in a list."
   ]
  },
  {
   "cell_type": "code",
   "execution_count": 4,
   "metadata": {},
   "outputs": [
    {
     "name": "stdin",
     "output_type": "stream",
     "text": [
      "Enter number which you want to count :  2\n"
     ]
    },
    {
     "name": "stdout",
     "output_type": "stream",
     "text": [
      "4\n"
     ]
    }
   ],
   "source": [
    "a = [1, 3, 2, 6, 3, 2, 8, 2, 9, 2, 7, 3]\n",
    "count = 0\n",
    "n = int(input(\"Enter number which you want to count : \"))\n",
    "for val in a:\n",
    "      if val == n:\n",
    "        count += 1\n",
    "print(count)"
   ]
  },
  {
   "cell_type": "markdown",
   "metadata": {},
   "source": [
    "### 13) WAP to find second largest number in a list."
   ]
  },
  {
   "cell_type": "code",
   "execution_count": 40,
   "metadata": {},
   "outputs": [
    {
     "name": "stdin",
     "output_type": "stream",
     "text": [
      "Enter number 4\n",
      "enter list member 1\n",
      "enter list member 2\n",
      "enter list member 3\n",
      "enter list member 4\n"
     ]
    },
    {
     "name": "stdout",
     "output_type": "stream",
     "text": [
      "3\n"
     ]
    }
   ],
   "source": [
    "list = []\n",
    "n = int(input(\"Enter number\"))\n",
    "for i in range(0,n):\n",
    "    e = int(input(\"enter list member\"))\n",
    "    list.append(e)\n",
    "list.sort()\n",
    "max = list[-2]\n",
    "print(max)"
   ]
  },
  {
   "cell_type": "markdown",
   "metadata": {},
   "source": [
    "### 14) WAP to extract elements with frequency greater than K."
   ]
  },
  {
   "cell_type": "code",
   "execution_count": 53,
   "metadata": {},
   "outputs": [
    {
     "name": "stdin",
     "output_type": "stream",
     "text": [
      "Enter a number :  2\n"
     ]
    },
    {
     "name": "stdout",
     "output_type": "stream",
     "text": [
      "[2, 3, 2, 3, 2, 3, 2]\n"
     ]
    }
   ],
   "source": [
    "list1 = [1,2,3,2,3,4,1,2,5,3,2]\n",
    "list2 = []\n",
    "k = int(input(\"Enter a number : \"))\n",
    "for num in list1:\n",
    "    if list1.count(num) > k:\n",
    "        list2.append(num)\n",
    "print(list2)"
   ]
  },
  {
   "cell_type": "markdown",
   "metadata": {},
   "source": [
    "### 15) WAP to create a list of squared numbers from 0 to 9 with and without using List Comprehension."
   ]
  },
  {
   "cell_type": "code",
   "execution_count": 54,
   "metadata": {},
   "outputs": [
    {
     "name": "stdin",
     "output_type": "stream",
     "text": [
      "Enter number 4\n",
      "enter list member 1\n",
      "enter list member 2\n",
      "enter list member 3\n",
      "enter list member 4\n"
     ]
    },
    {
     "name": "stdout",
     "output_type": "stream",
     "text": [
      "[1, 4, 9, 16]\n"
     ]
    }
   ],
   "source": [
    "list = []\n",
    "n = int(input(\"Enter number\"))\n",
    "for i in range(0,n):\n",
    "    e = int(input(\"enter list member\")) \n",
    "    list.append(e**2)\n",
    "print(list)\n",
    "l2 = [i**2 for i in range(0,n)]"
   ]
  },
  {
   "cell_type": "markdown",
   "metadata": {},
   "source": [
    "### 16) WAP to create a new list (fruit whose name starts with 'b') from the list of fruits given by user."
   ]
  },
  {
   "cell_type": "code",
   "execution_count": 48,
   "metadata": {},
   "outputs": [
    {
     "name": "stdin",
     "output_type": "stream",
     "text": [
      "Enter number of fruits 3\n",
      "enter list member of Fruits biu\n",
      "enter list member of Fruits sdf\n",
      "enter list member of Fruits ssd\n"
     ]
    },
    {
     "name": "stdout",
     "output_type": "stream",
     "text": [
      "['biu']\n"
     ]
    }
   ],
   "source": [
    "list = []\n",
    "n = int(input(\"Enter number of fruits\"))\n",
    "list1 = []\n",
    "for i in range(0,n):\n",
    "    e = input(\"enter list member of Fruits\")\n",
    "    list.append(e)\n",
    "for i in list:\n",
    "    if i[0] == 'b':\n",
    "            list1.append(i)\n",
    "print(list1)"
   ]
  },
  {
   "cell_type": "markdown",
   "metadata": {},
   "source": [
    "### 17) WAP to create a list of common elements from given two lists."
   ]
  },
  {
   "cell_type": "code",
   "execution_count": 52,
   "metadata": {},
   "outputs": [
    {
     "name": "stdout",
     "output_type": "stream",
     "text": [
      "{2, 4, 5, 6}\n"
     ]
    }
   ],
   "source": [
    "l1 = [1,2,3,4,5,6]\n",
    "l2 = [2,4,5,6,7,8]\n",
    "common = (set(l1) & set(l2))\n",
    "print(common)"
   ]
  },
  {
   "cell_type": "code",
   "execution_count": null,
   "metadata": {},
   "outputs": [],
   "source": []
  }
 ],
 "metadata": {
  "kernelspec": {
   "display_name": "Python 3 (ipykernel)",
   "language": "python",
   "name": "python3"
  },
  "language_info": {
   "codemirror_mode": {
    "name": "ipython",
    "version": 3
   },
   "file_extension": ".py",
   "mimetype": "text/x-python",
   "name": "python",
   "nbconvert_exporter": "python",
   "pygments_lexer": "ipython3",
   "version": "3.12.7"
  }
 },
 "nbformat": 4,
 "nbformat_minor": 4
}
