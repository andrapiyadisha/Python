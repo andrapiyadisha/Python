{
 "cells": [
  {
   "attachments": {},
   "cell_type": "markdown",
   "metadata": {},
   "source": [
    "<a href='https://www.darshan.ac.in/'> <img src='https://www.darshan.ac.in/Content/media/DU_Logo.svg' width=\"250\" height=\"300\"/></a>\n",
    "<pre>\n",
    "<center><b><h1>Python Programming - 2301CS404</b>\n",
    "<h2>Disha Andrapiya</h2>\n",
    "    <h2>B4-372</h2>\n",
    "    <h2>23010101010</h2></center>\n",
    "<center><b><h1>Lab - 11</b></center>    \n",
    "<pre>"
   ]
  },
  {
   "cell_type": "markdown",
   "metadata": {},
   "source": [
    "# Modules"
   ]
  },
  {
   "cell_type": "markdown",
   "metadata": {},
   "source": [
    "### 01) WAP to create Calculator module which defines functions like add, sub,mul and div. \n",
    "### Create another .py file that uses the functions available in Calculator module."
   ]
  },
  {
   "cell_type": "code",
   "execution_count": null,
   "metadata": {},
   "outputs": [],
   "source": [
    "import Lab11 as a\n",
    "\n",
    "a = int(input(\"Enter first number: \"))\n",
    "b = int(input(\"Enter second number: \"))\n",
    "\n",
    "print(\"Addition:\", a.add(a, b))\n",
    "print(\"Subtraction:\", a.sub(a, b))\n",
    "print(\"Multiplication:\", a.mul(a, b))\n",
    "print(\"Division:\", a.div(a, b))"
   ]
  },
  {
   "cell_type": "markdown",
   "metadata": {},
   "source": [
    "### 02) WAP to pick a random character from a given String."
   ]
  },
  {
   "cell_type": "code",
   "execution_count": 5,
   "metadata": {},
   "outputs": [
    {
     "name": "stdin",
     "output_type": "stream",
     "text": [
      "Enter a String disha\n"
     ]
    },
    {
     "name": "stdout",
     "output_type": "stream",
     "text": [
      "Random character: a\n"
     ]
    }
   ],
   "source": [
    "import random\n",
    "s =input(\"Enter a String\")\n",
    "randomInx = random.choice(s)\n",
    "print(\"Random character:\", randomInx)"
   ]
  },
  {
   "cell_type": "markdown",
   "metadata": {},
   "source": [
    "### 03) WAP to pick a random element from a given list."
   ]
  },
  {
   "cell_type": "code",
   "execution_count": 6,
   "metadata": {},
   "outputs": [
    {
     "name": "stdout",
     "output_type": "stream",
     "text": [
      "Random element: 4\n"
     ]
    }
   ],
   "source": [
    "import random\n",
    "li = [1,2,3,4,5]\n",
    "a = random.choice(li)\n",
    "print(\"Random element:\", a)"
   ]
  },
  {
   "cell_type": "markdown",
   "metadata": {},
   "source": [
    "### 04) WAP to roll a dice in such a way that every time you get the same number."
   ]
  },
  {
   "cell_type": "code",
   "execution_count": 19,
   "metadata": {},
   "outputs": [
    {
     "name": "stdout",
     "output_type": "stream",
     "text": [
      "Random element: 2\n",
      "Random element: 1\n",
      "Random element: 3\n"
     ]
    }
   ],
   "source": [
    "li = [1,2,3,4,5]\n",
    "li2 = [1,2,3,4,5,9,9,90]\n",
    "random.seed(1)\n",
    "a = random.choice(li)\n",
    "print(\"Random element:\", a)\n",
    "\n",
    "\n",
    "random.seed(2)\n",
    "a = random.choice(li)\n",
    "print(\"Random element:\", a)\n",
    "\n",
    "random.seed(1)\n",
    "a = random.choice(li2)\n",
    "print(\"Random element:\", a)\n"
   ]
  },
  {
   "cell_type": "markdown",
   "metadata": {},
   "source": [
    "### 05) WAP to generate 3 random integers between 100 and 999 which is divisible by 5."
   ]
  },
  {
   "cell_type": "code",
   "execution_count": 13,
   "metadata": {},
   "outputs": [
    {
     "name": "stdout",
     "output_type": "stream",
     "text": [
      "[210, 715, 900]\n"
     ]
    }
   ],
   "source": [
    "import random\n",
    "a = [random.randrange(100, 1000, 5) for _ in range(3)]\n",
    "print(a)"
   ]
  },
  {
   "cell_type": "markdown",
   "metadata": {},
   "source": [
    "### 06) WAP to generate 100 random lottery tickets and pick two lucky tickets from it and announce them as Winner and Runner up respectively."
   ]
  },
  {
   "cell_type": "code",
   "execution_count": 15,
   "metadata": {},
   "outputs": [
    {
     "name": "stdout",
     "output_type": "stream",
     "text": [
      "Winner is  37\n",
      "Runner up is  78\n"
     ]
    }
   ],
   "source": [
    "import random\n",
    "a = [random.randrange(1, 101) for _ in range(2)]\n",
    "print(\"Winner is \",a[0])\n",
    "print(\"Runner up is \",a[1])"
   ]
  },
  {
   "cell_type": "markdown",
   "metadata": {},
   "source": [
    "### 07) WAP to print current date and time in Python."
   ]
  },
  {
   "cell_type": "code",
   "execution_count": 24,
   "metadata": {},
   "outputs": [
    {
     "name": "stdout",
     "output_type": "stream",
     "text": [
      "2025-02-13 13:04:03.536880\n"
     ]
    }
   ],
   "source": [
    "from datetime import datetime\n",
    "time = datetime.now()\n",
    "print(time)"
   ]
  },
  {
   "cell_type": "markdown",
   "metadata": {},
   "source": [
    "### 08) Subtract a week (7 days) from a given date in Python."
   ]
  },
  {
   "cell_type": "code",
   "execution_count": 20,
   "metadata": {},
   "outputs": [
    {
     "name": "stdout",
     "output_type": "stream",
     "text": [
      "Date after subtracting a week: 2025-02-06\n"
     ]
    }
   ],
   "source": [
    "from datetime import datetime, timedelta\n",
    "date_str = \"2025-02-13\"\n",
    "date_obj = datetime.strptime(date_str, \"%Y-%m-%d\")\n",
    "new_date = date_obj - timedelta(days=7)\n",
    "print(\"Date after subtracting a week:\", new_date.strftime(\"%Y-%m-%d\"))"
   ]
  },
  {
   "cell_type": "markdown",
   "metadata": {},
   "source": [
    "### 09) WAP to Calculate number of days between two given dates."
   ]
  },
  {
   "cell_type": "code",
   "execution_count": 25,
   "metadata": {},
   "outputs": [
    {
     "name": "stdin",
     "output_type": "stream",
     "text": [
      "Enter the first date (YYYY-MM-DD):  2004-12-18\n",
      "Enter the second date (YYYY-MM-DD):  2025-02-13\n"
     ]
    },
    {
     "name": "stdout",
     "output_type": "stream",
     "text": [
      "Number of days between the two dates: 7362\n"
     ]
    }
   ],
   "source": [
    "from datetime import datetime\n",
    "date1_str = input(\"Enter the first date (YYYY-MM-DD): \")\n",
    "date2_str = input(\"Enter the second date (YYYY-MM-DD): \")\n",
    "date1 = datetime.strptime(date1_str, \"%Y-%m-%d\")\n",
    "date2 = datetime.strptime(date2_str, \"%Y-%m-%d\")\n",
    "days_difference = abs((date2 - date1).days)\n",
    "print(\"Number of days between the two dates:\", days_difference)"
   ]
  },
  {
   "cell_type": "markdown",
   "metadata": {},
   "source": [
    "### 10) WAP to Find the day of the week of a given date.(i.e. wether it is sunday/monday/tuesday/etc.)"
   ]
  },
  {
   "cell_type": "code",
   "execution_count": 26,
   "metadata": {},
   "outputs": [
    {
     "name": "stdin",
     "output_type": "stream",
     "text": [
      "Enter a date (YYYY-MM-DD):  2025-02-13\n"
     ]
    },
    {
     "name": "stdout",
     "output_type": "stream",
     "text": [
      "The day of the week is: Thursday\n"
     ]
    }
   ],
   "source": [
    "from datetime import datetime\n",
    "d = input(\"Enter a date (YYYY-MM-DD): \")\n",
    "date = datetime.strptime(d, \"%Y-%m-%d\")\n",
    "day_of_week = date.strftime(\"%A\")\n",
    "print(\"The day of the week is:\", day_of_week)\n"
   ]
  },
  {
   "cell_type": "markdown",
   "metadata": {},
   "source": [
    "### 11) WAP to demonstrate the use of date time module."
   ]
  },
  {
   "cell_type": "code",
   "execution_count": 27,
   "metadata": {},
   "outputs": [
    {
     "name": "stdout",
     "output_type": "stream",
     "text": [
      "Current Date and Time: 2025-02-13 13:12:51.626347\n",
      "Today's Date: 2025-02-13\n",
      "Custom Date: 2023-05-15\n",
      "Custom Time: 14:30:45\n",
      "Year: 2025\n",
      "Month: 2\n",
      "Day: 13\n",
      "Day of the Week: Thursday\n",
      "Date after 5 days: 2025-02-18\n",
      "Date 7 days ago: 2025-02-06\n",
      "Days between two dates: 366\n"
     ]
    }
   ],
   "source": [
    "from datetime import datetime, date, time, timedelta\n",
    "\n",
    "current_datetime = datetime.now()\n",
    "print(\"Current Date and Time:\", current_datetime)\n",
    "\n",
    "today_date = date.today()\n",
    "print(\"Today's Date:\", today_date)\n",
    "\n",
    "custom_date = date(2023, 5, 15)\n",
    "print(\"Custom Date:\", custom_date)\n",
    "\n",
    "custom_time = time(14, 30, 45)\n",
    "print(\"Custom Time:\", custom_time)\n",
    "\n",
    "print(\"Year:\", today_date.year)\n",
    "print(\"Month:\", today_date.month)\n",
    "print(\"Day:\", today_date.day)\n",
    "\n",
    "day_of_week = today_date.strftime(\"%A\")\n",
    "print(\"Day of the Week:\", day_of_week)\n",
    "\n",
    "future_date = today_date + timedelta(days=5)\n",
    "print(\"Date after 5 days:\", future_date)\n",
    "\n",
    "past_date = today_date - timedelta(days=7)\n",
    "print(\"Date 7 days ago:\", past_date)\n",
    "\n",
    "date1 = date(2024, 1, 1)\n",
    "date2 = date(2025, 1, 1)\n",
    "difference = (date2 - date1).days\n",
    "print(\"Days between two dates:\", difference)\n"
   ]
  },
  {
   "cell_type": "markdown",
   "metadata": {},
   "source": [
    "### 12) WAP to demonstrate the use of the math module."
   ]
  },
  {
   "cell_type": "code",
   "execution_count": 28,
   "metadata": {},
   "outputs": [
    {
     "name": "stdout",
     "output_type": "stream",
     "text": [
      "Square root of 25 is: 5.0\n",
      "2 raised to the power 3 is: 8.0\n",
      "GCD of 36 and 48 is: 12\n",
      "Factorial of 5 is: 120\n",
      "Sine of 30 degrees: 0.49999999999999994\n",
      "Cosine of 30 degrees: 0.8660254037844387\n",
      "Tangent of 30 degrees: 0.5773502691896257\n",
      "Natural log of 10 is: 2.302585092994046\n",
      "Log base 10 of 10 is: 1.0\n",
      "Value of π: 3.141592653589793\n",
      "Value of e: 2.718281828459045\n",
      "Ceiling of 4.7 is: 5\n",
      "Floor of 4.7 is: 4\n"
     ]
    }
   ],
   "source": [
    "import math\n",
    "\n",
    "num = 25\n",
    "print(\"Square root of\", num, \"is:\", math.sqrt(num))\n",
    "\n",
    "base, exponent = 2, 3\n",
    "print(f\"{base} raised to the power {exponent} is:\", math.pow(base, exponent))\n",
    "\n",
    "num1, num2 = 36, 48\n",
    "print(f\"GCD of {num1} and {num2} is:\", math.gcd(num1, num2))\n",
    "\n",
    "num = 5\n",
    "print(\"Factorial of\", num, \"is:\", math.factorial(num))\n",
    "\n",
    "angle = math.radians(30)  \n",
    "print(\"Sine of 30 degrees:\", math.sin(angle))\n",
    "print(\"Cosine of 30 degrees:\", math.cos(angle))\n",
    "print(\"Tangent of 30 degrees:\", math.tan(angle))\n",
    "\n",
    "num = 10\n",
    "print(\"Natural log of\", num, \"is:\", math.log(num))  # ln(x)\n",
    "print(\"Log base 10 of\", num, \"is:\", math.log10(num))\n",
    "\n",
    "print(\"Value of π:\", math.pi)\n",
    "print(\"Value of e:\", math.e)\n",
    "\n",
    "num = 4.7\n",
    "print(\"Ceiling of\", num, \"is:\", math.ceil(num))\n",
    "print(\"Floor of\", num, \"is:\", math.floor(num))\n"
   ]
  },
  {
   "cell_type": "code",
   "execution_count": null,
   "metadata": {},
   "outputs": [],
   "source": []
  }
 ],
 "metadata": {
  "kernelspec": {
   "display_name": "Python 3 (ipykernel)",
   "language": "python",
   "name": "python3"
  },
  "language_info": {
   "codemirror_mode": {
    "name": "ipython",
    "version": 3
   },
   "file_extension": ".py",
   "mimetype": "text/x-python",
   "name": "python",
   "nbconvert_exporter": "python",
   "pygments_lexer": "ipython3",
   "version": "3.12.7"
  }
 },
 "nbformat": 4,
 "nbformat_minor": 4
}
