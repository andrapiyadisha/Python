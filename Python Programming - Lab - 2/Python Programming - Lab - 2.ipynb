{
 "cells": [
  {
   "cell_type": "markdown",
   "metadata": {},
   "source": [
    "\n",
    "<a href='https://www.darshan.ac.in/'> <img src='https://www.darshan.ac.in/Content/media/DU_Logo.svg' width=\"250\" height=\"300\"/></a>\n",
    "<pre>\n",
    "<center><b><h1>Python Programming - 2301CS404</b></center>\n",
    "<center><b><h1>Lab - 2</b></center>    \n",
    "<pre>"
   ]
  },
  {
   "cell_type": "markdown",
   "metadata": {},
   "source": [
    "# if..else.."
   ]
  },
  {
   "cell_type": "markdown",
   "metadata": {},
   "source": [
    "### 01) WAP to check whether the given number is positive or negative."
   ]
  },
  {
   "cell_type": "code",
   "execution_count": 4,
   "metadata": {},
   "outputs": [
    {
     "name": "stdin",
     "output_type": "stream",
     "text": [
      "Enter a Number -1\n"
     ]
    },
    {
     "name": "stdout",
     "output_type": "stream",
     "text": [
      "Negative\n"
     ]
    }
   ],
   "source": [
    "x = int(input(\"Enter a Number\"))\n",
    "if x > 0:\n",
    "    print(\"positive\")\n",
    "else:\n",
    "    print(\"Negative\")"
   ]
  },
  {
   "cell_type": "markdown",
   "metadata": {},
   "source": [
    "### 02) WAP to check whether the given number is odd or even."
   ]
  },
  {
   "cell_type": "code",
   "execution_count": 6,
   "metadata": {},
   "outputs": [
    {
     "name": "stdin",
     "output_type": "stream",
     "text": [
      "Enter a Number 13\n"
     ]
    },
    {
     "name": "stdout",
     "output_type": "stream",
     "text": [
      "odd\n"
     ]
    }
   ],
   "source": [
    "x = int(input(\"Enter a Number\"))\n",
    "if x % 2 == 0:\n",
    "    print(\"even\")\n",
    "else:\n",
    "    print(\"odd\")"
   ]
  },
  {
   "cell_type": "markdown",
   "metadata": {},
   "source": [
    "### 03) WAP to find out largest number from given two numbers using simple if and ternary operator."
   ]
  },
  {
   "cell_type": "code",
   "execution_count": 11,
   "metadata": {},
   "outputs": [
    {
     "name": "stdout",
     "output_type": "stream",
     "text": [
      "Enter two number\n"
     ]
    },
    {
     "name": "stdin",
     "output_type": "stream",
     "text": [
      "Enter a Number 1\n",
      "Enter a Number 2\n"
     ]
    },
    {
     "name": "stdout",
     "output_type": "stream",
     "text": [
      "2 is larger\n"
     ]
    }
   ],
   "source": [
    "a = int(input(\"Enter a Number\"))\n",
    "b = int(input(\"Enter a Number\"))\n",
    "# if a>b:\n",
    "#     print(f\"{a} is larger\")\n",
    "# else:\n",
    "#     print(f\"{b} is larger\")\n",
    "print(f\"{a} is larger\") if a>b else  print(f\"{b} is larger\")"
   ]
  },
  {
   "cell_type": "markdown",
   "metadata": {},
   "source": [
    "### 04) WAP to find out largest number from given three numbers."
   ]
  },
  {
   "cell_type": "code",
   "execution_count": 10,
   "metadata": {},
   "outputs": [
    {
     "name": "stdout",
     "output_type": "stream",
     "text": [
      "Enter three number\n"
     ]
    },
    {
     "name": "stdin",
     "output_type": "stream",
     "text": [
      "Enter a Number 1\n",
      "Enter a Number 2\n",
      "Enter a Number 3\n"
     ]
    },
    {
     "name": "stdout",
     "output_type": "stream",
     "text": [
      "3 is larger\n"
     ]
    }
   ],
   "source": [
    "a = int(input(\"Enter a Number\"))\n",
    "b = int(input(\"Enter a Number\"))\n",
    "c = int(input(\"Enter a Number\"))\n",
    "if a>b:\n",
    "    if a>c:\n",
    "       print(f\"{a} is larger\")\n",
    "    else:\n",
    "        print(f\"{c} is larger\")\n",
    "else:\n",
    "    if b>c:\n",
    "        print(f\"{b} is larger\")\n",
    "    else:\n",
    "        print(f\"{c} is larger\")\n"
   ]
  },
  {
   "cell_type": "markdown",
   "metadata": {},
   "source": [
    "### 05) WAP to check whether the given year is leap year or not.\n",
    "[If a year can be divisible by 4 but not divisible by 100 then it is leap year but if it is divisible by 400 then it is leap year]"
   ]
  },
  {
   "cell_type": "code",
   "execution_count": 17,
   "metadata": {},
   "outputs": [
    {
     "name": "stdin",
     "output_type": "stream",
     "text": [
      "Enter a year 2020\n"
     ]
    },
    {
     "name": "stdout",
     "output_type": "stream",
     "text": [
      "Leap year\n"
     ]
    }
   ],
   "source": [
    "a = int(input(\"Enter a year\"))\n",
    "if a%4==0 :\n",
    "    print(\"Leap year\")\n",
    "elif a%400==0:\n",
    "     print(\"Leap year\")\n",
    "else:\n",
    "    print(\"Not Leap year\")"
   ]
  },
  {
   "cell_type": "markdown",
   "metadata": {},
   "source": [
    "### 06) WAP in python to display the name of the day according to the number given by the user."
   ]
  },
  {
   "cell_type": "code",
   "execution_count": 18,
   "metadata": {},
   "outputs": [
    {
     "name": "stdin",
     "output_type": "stream",
     "text": [
      "Enter a Day Number 5\n"
     ]
    },
    {
     "name": "stdout",
     "output_type": "stream",
     "text": [
      "Friday\n"
     ]
    }
   ],
   "source": [
    "x = int(input(\"Enter a Day Number\"))\n",
    "if x == 1:\n",
    "    print(\"Monday\")\n",
    "elif x == 2:\n",
    "    print(\"Tuesday\")\n",
    "elif x == 3:\n",
    "    print(\"Wednesday\")\n",
    "elif x == 4:\n",
    "    print(\"Thursday\")\n",
    "elif x == 5:\n",
    "    print(\"Friday\")\n",
    "elif x == 6:\n",
    "    print(\"Saturday\")\n",
    "elif x == 7:\n",
    "    print(\"Sunday\")\n",
    "else:\n",
    "    print(\"Not Valid\")"
   ]
  },
  {
   "cell_type": "markdown",
   "metadata": {},
   "source": [
    "### 07) WAP to implement simple calculator which performs (add,sub,mul,div) of two no. based on user input."
   ]
  },
  {
   "cell_type": "code",
   "execution_count": 20,
   "metadata": {},
   "outputs": [
    {
     "name": "stdin",
     "output_type": "stream",
     "text": [
      "Enter a Number 5\n",
      "Enter a Number 5\n",
      "Enter a Operator *\n"
     ]
    },
    {
     "name": "stdout",
     "output_type": "stream",
     "text": [
      "Addition is 25\n"
     ]
    }
   ],
   "source": [
    "a = int(input(\"Enter a Number\"))\n",
    "b = int(input(\"Enter a Number\"))\n",
    "op = input(\"Enter a Operator\")\n",
    "if op == \"+\":\n",
    "    print(f\"Addition is {a+b}\")\n",
    "elif op == \"-\":\n",
    "    print(f\"Addition is {a-b}\")\n",
    "elif op == \"*\":\n",
    "    print(f\"Addition is {a*b}\")\n",
    "elif op == \"/\":\n",
    "    print(f\"Addition is {a/b}\")\n",
    "else:\n",
    "    print(\"Not Valid\")"
   ]
  },
  {
   "cell_type": "markdown",
   "metadata": {},
   "source": [
    "### 08) WAP to read marks of five subjects. Calculate percentage and print class accordingly. \n",
    "Fail below 35 </br>\n",
    "Pass Class between 35 to 45 </br>\n",
    "Second Class</br>\n",
    "between 45 to 60</br>\n",
    "First Class between 60 to 70</br> \n",
    "Distinction if more than 70"
   ]
  },
  {
   "cell_type": "code",
   "execution_count": 24,
   "metadata": {},
   "outputs": [
    {
     "name": "stdin",
     "output_type": "stream",
     "text": [
      "Enter a S1 Marks 99\n",
      "Enter a S2 Marks 89\n",
      "Enter a S3 Marks 89\n",
      "Enter a S4 Marks 78\n",
      "Enter a S5 Marks 77\n"
     ]
    },
    {
     "name": "stdout",
     "output_type": "stream",
     "text": [
      "Pass With Distinction and percentage is 86.4\n"
     ]
    }
   ],
   "source": [
    "m1 = float(input(\"Enter a S1 Marks\"))\n",
    "m2= float(input(\"Enter a S2 Marks\"))\n",
    "m3= float(input(\"Enter a S3 Marks\"))\n",
    "m4= float(input(\"Enter a S4 Marks\"))\n",
    "m5= float(input(\"Enter a S5 Marks\"))\n",
    "pr = float((m1+m2+m3+m4+m5)/5)\n",
    "if pr>70 :\n",
    "    print(f\"Pass With Distinction and percentage is {pr}\")\n",
    "elif pr>60 :\n",
    "    print(f\"Pass With First Class and percentage is {pr}\")\n",
    "elif pr>45 :\n",
    "    print(f\"Pass With Second Class and percentage is {pr}\")\n",
    "elif pr>35 :\n",
    "    print(f\"Pass and percentage is {pr}\")\n",
    "else :\n",
    "    print(f\"Fail and percentage is {pr}\")\n"
   ]
  },
  {
   "cell_type": "markdown",
   "metadata": {},
   "source": [
    "### 09) Three sides of a triangle are entered through the keyboard, WAP to check whether the triangle is isosceles, equilateral, scalene or right-angled triangle."
   ]
  },
  {
   "cell_type": "code",
   "execution_count": 27,
   "metadata": {},
   "outputs": [
    {
     "name": "stdin",
     "output_type": "stream",
     "text": [
      "Enter a Number 5\n",
      "Enter a Number 5\n",
      "Enter a Number 7\n"
     ]
    },
    {
     "name": "stdout",
     "output_type": "stream",
     "text": [
      "Triangel is Isoscales\n"
     ]
    }
   ],
   "source": [
    "a = int(input(\"Enter a Number\"))\n",
    "b = int(input(\"Enter a Number\"))\n",
    "c = int(input(\"Enter a Number\"))\n",
    "\n",
    "if a+b>c or b+c>a or a+c>b:\n",
    "    if a==b==c:\n",
    "        print(\"Triangel is Equilateral\")\n",
    "    elif a==b or b==c or c==a :\n",
    "        print(\"Triangel is Isoscales\")\n",
    "    elif a**2+b**2==c**2 or b**2+c**2==a**2 or a**2+c**2==b**2:\n",
    "        print(\"Triangel is Right-angeld Triangel\")\n",
    "    else :\n",
    "        print(\"Scalene Triangel\")\n",
    "else:\n",
    "    print(\"Not valid Triangel\")"
   ]
  },
  {
   "cell_type": "markdown",
   "metadata": {},
   "source": [
    "### 10) WAP to find the second largest number among three user input numbers."
   ]
  },
  {
   "cell_type": "code",
   "execution_count": 29,
   "metadata": {},
   "outputs": [
    {
     "name": "stdin",
     "output_type": "stream",
     "text": [
      "Enter a Number 1\n",
      "Enter a Number 2\n",
      "Enter a Number 3\n"
     ]
    },
    {
     "name": "stdout",
     "output_type": "stream",
     "text": [
      "2 is second larger\n"
     ]
    }
   ],
   "source": [
    "a = int(input(\"Enter a Number\"))\n",
    "b = int(input(\"Enter a Number\"))\n",
    "c = int(input(\"Enter a Number\"))\n",
    "\n",
    "if a>b and a<c:\n",
    "    print(f\"{a} is second larger\")\n",
    "elif b>a and b<c:\n",
    "    print(f\"{b} is second larger\")\n",
    "else:\n",
    "    print(f\"{c} is second larger\")"
   ]
  },
  {
   "cell_type": "markdown",
   "metadata": {},
   "source": [
    "### 11) WAP to calculate electricity bill based on following criteria. Which takes the unit from the user.\n",
    "a. First 1 to 50 units – Rs. 2.60/unit</br>\n",
    "b. Next 50 to 100 units – Rs. 3.25/unit</br>\n",
    "c. Next 100 to 200 units – Rs. 5.26/unit</br>\n",
    "d. above 200 units – Rs. 8.45/unit"
   ]
  },
  {
   "cell_type": "code",
   "execution_count": 32,
   "metadata": {},
   "outputs": [
    {
     "name": "stdin",
     "output_type": "stream",
     "text": [
      "Enter a Units 100\n"
     ]
    },
    {
     "name": "stdout",
     "output_type": "stream",
     "text": [
      "Bill is 292.5\n"
     ]
    }
   ],
   "source": [
    "unit = float(input(\"Enter a Units\"))\n",
    "bill = 0.0\n",
    "if unit <= 50:\n",
    "    bill = unit * 2.60\n",
    "elif  unit <= 100:\n",
    "    bill = (50 * 2.60 ) + ((unit - 50)*3.25)\n",
    "elif  unit <= 200:\n",
    "    bill = (50 * 2.60 ) + (50 *3.25) + ((unit - 100)*5.26)\n",
    "elif  unit > 200:\n",
    "    bill = (50 * 2.60 ) + (50 *3.25) +(100 * 5.26 ) +((unit - 200)*8.45)\n",
    "print(f\"Bill is {bill}\")"
   ]
  },
  {
   "cell_type": "code",
   "execution_count": null,
   "metadata": {},
   "outputs": [],
   "source": [
    "password = input(\"Enter password Minimum length Eight with Special Symboles and number with uppercase\")\n",
    "if password.length < 8:\n",
    "    print(\"Password Shoud be minimum 8 characters\")\n",
    "    for(i=0;i<password.length;i++)"
   ]
  },
  {
   "cell_type": "code",
   "execution_count": null,
   "metadata": {},
   "outputs": [],
   "source": []
  }
 ],
 "metadata": {
  "kernelspec": {
   "display_name": "Python 3 (ipykernel)",
   "language": "python",
   "name": "python3"
  },
  "language_info": {
   "codemirror_mode": {
    "name": "ipython",
    "version": 3
   },
   "file_extension": ".py",
   "mimetype": "text/x-python",
   "name": "python",
   "nbconvert_exporter": "python",
   "pygments_lexer": "ipython3",
   "version": "3.12.7"
  }
 },
 "nbformat": 4,
 "nbformat_minor": 4
}
