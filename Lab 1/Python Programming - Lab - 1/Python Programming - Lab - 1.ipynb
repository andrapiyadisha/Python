{
 "cells": [
  {
   "cell_type": "markdown",
   "metadata": {},
   "source": [
    "<a href='https://www.darshan.ac.in/'> <img src='https://www.darshan.ac.in/Content/media/DU_Logo.svg' width=\"250\" height=\"10\"/></a>\n",
    "<pre>\n",
    "<center><b><h1>Python Programming - 2301CS404</b></center>\n",
    "<center><b><h1>Lab - 1</b></center>    \n",
    "<pre>"
   ]
  },
  {
   "cell_type": "markdown",
   "metadata": {},
   "source": [
    "### 01) WAP to print “Hello World”"
   ]
  },
  {
   "cell_type": "code",
   "execution_count": 1,
   "metadata": {},
   "outputs": [
    {
     "name": "stdout",
     "output_type": "stream",
     "text": [
      "Hello World\n"
     ]
    }
   ],
   "source": [
    "print(\"Hello World\")"
   ]
  },
  {
   "cell_type": "markdown",
   "metadata": {},
   "source": [
    "### 02) WAP to print addition of two numbers with and without using input()."
   ]
  },
  {
   "cell_type": "code",
   "execution_count": 3,
   "metadata": {},
   "outputs": [
    {
     "name": "stdout",
     "output_type": "stream",
     "text": [
      "Sum is 9\n"
     ]
    },
    {
     "name": "stdin",
     "output_type": "stream",
     "text": [
      "Enter a number 5\n",
      "Enter a number 10\n"
     ]
    },
    {
     "name": "stdout",
     "output_type": "stream",
     "text": [
      "Sum1 is 15\n"
     ]
    }
   ],
   "source": [
    "a = 5\n",
    "b = 4\n",
    "sum = a+b\n",
    "print(f\"Sum is {sum}\")\n",
    "c = int(input(\"Enter a number\"))\n",
    "d = int(input(\"Enter a number\"))\n",
    "sum1 = c+d\n",
    "print(f\"Sum1 is {sum1}\")"
   ]
  },
  {
   "cell_type": "markdown",
   "metadata": {},
   "source": [
    "### 03) WAP to check the type of the variable."
   ]
  },
  {
   "cell_type": "code",
   "execution_count": 5,
   "metadata": {},
   "outputs": [
    {
     "name": "stdin",
     "output_type": "stream",
     "text": [
      "Enter a anythig 5\n"
     ]
    },
    {
     "name": "stdout",
     "output_type": "stream",
     "text": [
      "output is  <class 'str'>\n"
     ]
    }
   ],
   "source": [
    "x = input(\"Enter a anythig\")\n",
    "print(\"output is \",type(x))"
   ]
  },
  {
   "cell_type": "markdown",
   "metadata": {},
   "source": [
    "### 04) WAP to calculate simple interest."
   ]
  },
  {
   "cell_type": "code",
   "execution_count": 6,
   "metadata": {},
   "outputs": [
    {
     "name": "stdin",
     "output_type": "stream",
     "text": [
      "Enter a principle intrest 3\n",
      "Enter rate of intrest 6\n",
      "Enter time 2\n"
     ]
    },
    {
     "name": "stdout",
     "output_type": "stream",
     "text": [
      "Simple interest is 0.36\n"
     ]
    }
   ],
   "source": [
    "p = int(input(\"Enter a principle intrest\"))\n",
    "r = float(input(\"Enter rate of intrest\"))\n",
    "t = int(input(\"Enter time\"))\n",
    "simpleInterest = (p*r*t)/100\n",
    "print(f\"Simple interest is {simpleInterest}\")"
   ]
  },
  {
   "cell_type": "markdown",
   "metadata": {},
   "source": [
    "### 05) WAP to calculate area and perimeter of a circle."
   ]
  },
  {
   "cell_type": "code",
   "execution_count": 7,
   "metadata": {},
   "outputs": [
    {
     "name": "stdin",
     "output_type": "stream",
     "text": [
      "Enter redious :  10\n"
     ]
    },
    {
     "name": "stdout",
     "output_type": "stream",
     "text": [
      "area of circle is =  314.0\n",
      "circumstances of circle is =  62.800000000000004\n"
     ]
    }
   ],
   "source": [
    "r = float(input(\"Enter redious : \"))\n",
    "area = 3.14*r*r\n",
    "perimeter = 2*3.14*r\n",
    "print(\"area of circle is = \",area)\n",
    "print(\"circumstances of circle is = \",perimeter)"
   ]
  },
  {
   "cell_type": "markdown",
   "metadata": {},
   "source": [
    "### 06) WAP to calculate area of a triangle."
   ]
  },
  {
   "cell_type": "code",
   "execution_count": 9,
   "metadata": {},
   "outputs": [
    {
     "name": "stdin",
     "output_type": "stream",
     "text": [
      "Enter height :  2\n",
      "Enter base :  2\n"
     ]
    },
    {
     "name": "stdout",
     "output_type": "stream",
     "text": [
      "Area of Triangle is =  2.0\n"
     ]
    }
   ],
   "source": [
    "h = float(input(\"Enter height : \"))\n",
    "b = float(input(\"Enter base : \"))\n",
    "area = h*b*0.5\n",
    "print(\"Area of Triangle is = \",area)"
   ]
  },
  {
   "cell_type": "markdown",
   "metadata": {},
   "source": [
    "### 07) WAP to compute quotient and remainder."
   ]
  },
  {
   "cell_type": "code",
   "execution_count": 11,
   "metadata": {},
   "outputs": [
    {
     "name": "stdin",
     "output_type": "stream",
     "text": [
      "Enter a number 10\n",
      "Enter denominator 5\n"
     ]
    },
    {
     "name": "stdout",
     "output_type": "stream",
     "text": [
      "Quotient is  2.0\n",
      "Remainder 0\n"
     ]
    }
   ],
   "source": [
    "n = int(input(\"Enter a number\"))\n",
    "d = int(input(\"Enter denominator\"))\n",
    "\n",
    "q = n/d\n",
    "r = n%d\n",
    "print(\"Quotient is \",q)\n",
    "print(\"Remainder\",r)"
   ]
  },
  {
   "cell_type": "markdown",
   "metadata": {},
   "source": [
    "### 08) WAP to convert degree into Fahrenheit and vice versa."
   ]
  },
  {
   "cell_type": "code",
   "execution_count": 12,
   "metadata": {},
   "outputs": [
    {
     "name": "stdin",
     "output_type": "stream",
     "text": [
      "Enter temperature in fahrenheit to convert in celsius :  14\n",
      "Enter temperature in celsius to convert in fahrenheit :  25\n"
     ]
    },
    {
     "name": "stdout",
     "output_type": "stream",
     "text": [
      "Celsius to Fahrenheit is : 77.0\n",
      "Fahrenheit to Celsius is : -10.0\n"
     ]
    }
   ],
   "source": [
    "f = float(input(\"Enter temperature in fahrenheit to convert in celsius : \"))\n",
    "c = float(input(\"Enter temperature in celsius to convert in fahrenheit : \"))\n",
    "fahrenheit = (c*1.8+32)\n",
    "celsius = ((f-32)*(5/9))\n",
    "print(f\"Celsius to Fahrenheit is : {fahrenheit}\")\n",
    "print(f\"Fahrenheit to Celsius is : {celsius}\")"
   ]
  },
  {
   "cell_type": "markdown",
   "metadata": {},
   "source": [
    "### 09) WAP to find the distance between two points in 2-D space."
   ]
  },
  {
   "cell_type": "code",
   "execution_count": 13,
   "metadata": {},
   "outputs": [
    {
     "name": "stdin",
     "output_type": "stream",
     "text": [
      "Enter x cordinate of first point :  4\n",
      "Enter y cordinate of first point :  2\n",
      "Enter x cordinate of second point :  8\n",
      "Enter y cordinate of second point :  4\n"
     ]
    },
    {
     "name": "stdout",
     "output_type": "stream",
     "text": [
      "Distance between two point is : 4.47213595499958\n"
     ]
    }
   ],
   "source": [
    "x1 = float(input(\"Enter x cordinate of first point : \"))\n",
    "y1 = float(input(\"Enter y cordinate of first point : \"))\n",
    "x2 = float(input(\"Enter x cordinate of second point : \"))\n",
    "y2 = float(input(\"Enter y cordinate of second point : \"))\n",
    "d = (((x2-x1)**2)+((y2-y1)**2))**(1/2)\n",
    "print(f\"Distance between two point is : {d}\")"
   ]
  },
  {
   "cell_type": "markdown",
   "metadata": {},
   "source": [
    "### 10) WAP to print sum of n natural numbers."
   ]
  },
  {
   "cell_type": "code",
   "execution_count": 14,
   "metadata": {},
   "outputs": [
    {
     "name": "stdin",
     "output_type": "stream",
     "text": [
      "Enter a number 10\n"
     ]
    },
    {
     "name": "stdout",
     "output_type": "stream",
     "text": [
      "Sum of n natural number is  55.0\n"
     ]
    }
   ],
   "source": [
    "n = int(input(\"Enter a number\"))\n",
    "sum_n = n*(n+1)/2\n",
    "print(\"Sum of n natural number is \",sum_n)"
   ]
  },
  {
   "cell_type": "markdown",
   "metadata": {},
   "source": [
    "### 11) WAP to print sum of square of n natural numbers."
   ]
  },
  {
   "cell_type": "code",
   "execution_count": 18,
   "metadata": {},
   "outputs": [
    {
     "name": "stdin",
     "output_type": "stream",
     "text": [
      "Enter a number 10\n"
     ]
    },
    {
     "name": "stdout",
     "output_type": "stream",
     "text": [
      "Sum of n natural number is  385.0\n"
     ]
    }
   ],
   "source": [
    "n = int(input(\"Enter a number\"))\n",
    "sum_n = (n*(n+1)*(2*n+1))/6\n",
    "print(\"Sum of n natural number is \",sum_n)"
   ]
  },
  {
   "cell_type": "markdown",
   "metadata": {},
   "source": [
    "### 12) WAP to concate the first and last name of the student."
   ]
  },
  {
   "cell_type": "code",
   "execution_count": 19,
   "metadata": {},
   "outputs": [
    {
     "name": "stdin",
     "output_type": "stream",
     "text": [
      "Enter the first name:  Disha\n",
      "Enter the last name:  Andrapiya\n"
     ]
    },
    {
     "name": "stdout",
     "output_type": "stream",
     "text": [
      "Full Name: Disha Andrapiya\n"
     ]
    }
   ],
   "source": [
    "first_name = input(\"Enter the first name: \")\n",
    "last_name = input(\"Enter the last name: \")\n",
    "full_name = first_name + \" \" + last_name\n",
    "\n",
    "print(\"Full Name:\", full_name)\n"
   ]
  },
  {
   "cell_type": "markdown",
   "metadata": {},
   "source": [
    "### 13) WAP to swap two numbers."
   ]
  },
  {
   "cell_type": "code",
   "execution_count": 20,
   "metadata": {},
   "outputs": [
    {
     "name": "stdin",
     "output_type": "stream",
     "text": [
      "Enter the first number :  1\n",
      "Enter the second number :  5\n"
     ]
    },
    {
     "name": "stdout",
     "output_type": "stream",
     "text": [
      "Before swapping:\n",
      "a = 1\n",
      "b = 5\n",
      "After swapping:\n",
      "a = 5\n",
      "b = 1\n"
     ]
    }
   ],
   "source": [
    "a = int(input(\"Enter the first number : \"))\n",
    "b = int(input(\"Enter the second number : \"))\n",
    "\n",
    "print(\"Before swapping:\")\n",
    "print(\"a =\", a)\n",
    "print(\"b =\", b)\n",
    "\n",
    "temp = a\n",
    "a = b\n",
    "b = temp\n",
    "\n",
    "print(\"After swapping:\")\n",
    "print(\"a =\", a)\n",
    "print(\"b =\", b)\n"
   ]
  },
  {
   "cell_type": "markdown",
   "metadata": {},
   "source": [
    "### 14) WAP to get the distance from user into kilometer, and convert it into meter, feet, inches and centimeter."
   ]
  },
  {
   "cell_type": "code",
   "execution_count": 21,
   "metadata": {},
   "outputs": [
    {
     "name": "stdin",
     "output_type": "stream",
     "text": [
      "Enter distance in kilometer :  100\n"
     ]
    },
    {
     "name": "stdout",
     "output_type": "stream",
     "text": [
      "Kilometer into meter : 100000.0\n",
      "Kilometer into feet : 328100.0\n",
      "Kilometer into inch : 3937000.0\n",
      "Kilometer into centimeter : 10000000.0\n"
     ]
    }
   ],
   "source": [
    "d = float(input(\"Enter distance in kilometer : \"))\n",
    "meter = d * 1000\n",
    "feet = d * 3281\n",
    "inch = d * 39370\n",
    "centimeter = d * 100000\n",
    "print(f\"Kilometer into meter : {meter}\")\n",
    "print(f\"Kilometer into feet : {feet}\")\n",
    "print(f\"Kilometer into inch : {inch}\")\n",
    "print(f\"Kilometer into centimeter : {centimeter}\")"
   ]
  },
  {
   "cell_type": "markdown",
   "metadata": {},
   "source": [
    "### 15) WAP to get day, month and year from the user and print the date in the given format: 23-11-2024."
   ]
  },
  {
   "cell_type": "code",
   "execution_count": 22,
   "metadata": {},
   "outputs": [
    {
     "name": "stdin",
     "output_type": "stream",
     "text": [
      "Enter day :  25\n",
      "Enter month :  5\n",
      "Enter year :  2005\n"
     ]
    },
    {
     "name": "stdout",
     "output_type": "stream",
     "text": [
      "Date is 25-5-2005\n"
     ]
    }
   ],
   "source": [
    "day = int(input(\"Enter day : \"))\n",
    "month = int(input(\"Enter month : \"))\n",
    "year = int(input(\"Enter year : \"))\n",
    "print(f\"Date is {day}-{month}-{year}\")"
   ]
  }
 ],
 "metadata": {
  "kernelspec": {
   "display_name": "Python 3 (ipykernel)",
   "language": "python",
   "name": "python3"
  },
  "language_info": {
   "codemirror_mode": {
    "name": "ipython",
    "version": 3
   },
   "file_extension": ".py",
   "mimetype": "text/x-python",
   "name": "python",
   "nbconvert_exporter": "python",
   "pygments_lexer": "ipython3",
   "version": "3.12.7"
  },
  "vscode": {
   "interpreter": {
    "hash": "31f2aee4e71d21fbe5cf8b01ff0e069b9275f58929596ceb00d14d90e3e16cd6"
   }
  }
 },
 "nbformat": 4,
 "nbformat_minor": 4
}
